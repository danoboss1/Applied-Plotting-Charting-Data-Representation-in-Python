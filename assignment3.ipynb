{
 "cells": [
  {
   "cell_type": "markdown",
   "metadata": {
    "nbgrader": {
     "grade": false,
     "grade_id": "cell-100f4129570db3cb",
     "locked": true,
     "schema_version": 3,
     "solution": false,
     "task": false
    }
   },
   "source": [
    "# Assignment 3 - Building a Custom Visualization\n",
    "\n",
    "In this assignment you must choose __one__ of the options presented below and submit a visual as well as your source code for peer grading. The details of how you solve the assignment are up to you, although your assignment must use matplotlib so that your peers can evaluate your work. The options differ in challenge level, but there are no grades associated with the challenge level you chose. However, your peers will be asked to ensure you at least met a minimum quality for a given technique in order to pass. Implement the technique fully (or exceed it!) and you should be able to earn full grades for the assignment.\n",
    "\n",
    "Ferreira, N., Fisher, D., & Konig, A. C. (2014, April). [Sample-oriented task-driven visualizations: allowing users to make better, more confident decisions.](https://www.microsoft.com/en-us/research/wp-content/uploads/2016/02/Ferreira_Fisher_Sample_Oriented_Tasks.pdf) \n",
    "&nbsp;&nbsp;&nbsp;&nbsp;&nbsp;&nbsp;In Proceedings of the SIGCHI Conference on Human Factors in Computing Systems (pp. 571-580). ACM. ([video](https://www.youtube.com/watch?v=BI7GAs-va-Q))\n",
    "\n",
    "In this [paper](https://www.microsoft.com/en-us/research/wp-content/uploads/2016/02/Ferreira_Fisher_Sample_Oriented_Tasks.pdf) the authors describe the challenges users face when trying to make judgements about probabilistic data generated through samples. As an example, they look at a bar chart of four years of data (replicated below in Figure 1). Each year has a y-axis value, which is derived from a sample of a larger dataset. For instance, the first value might be the number votes in a given district or riding for 1992, with the average being around 33,000. On top of this is plotted the 95% confidence interval for the mean (see the boxplot lectures for more information, and the yerr parameter of barcharts).\n",
    "\n",
    "<br>\n",
    "<img src=\"assets/Assignment3Fig1.png\" alt=\"Figure 1\" style=\"width: 400px;\"/>\n",
    "<h4 style=\"text-align: center;\" markdown=\"1\">  &nbsp;&nbsp;&nbsp;&nbsp;&nbsp;&nbsp;&nbsp;&nbsp;Figure 1 from (Ferreira et al, 2014).</h4>\n",
    "\n",
    "<br>\n",
    "\n",
    "A challenge that users face is that, for a given y-axis value (e.g. 42,000), it is difficult to know which x-axis values are most likely to be representative, because the confidence levels overlap and their distributions are different (the lengths of the confidence interval bars are unequal). One of the solutions the authors propose for this problem (Figure 2c) is to allow users to indicate the y-axis value of interest (e.g. 42,000) and then draw a horizontal line and color bars based on this value. So bars might be colored red if they are definitely above this value (given the confidence interval), blue if they are definitely below this value, or white if they contain this value.\n",
    "\n",
    "\n",
    "<br>\n",
    "<img src=\"assets/Assignment3Fig2c.png\" alt=\"Figure 1\" style=\"width: 400px;\"/>\n",
    "<h4 style=\"text-align: center;\" markdown=\"1\">  Figure 2c from (Ferreira et al. 2014). Note that the colorbar legend at the bottom as well as the arrows are not required in the assignment descriptions below.</h4>\n",
    "\n",
    "<br>\n",
    "<br>\n",
    "\n",
    "**Easiest option:** Implement the bar coloring as described above - a color scale with at least three colors, (e.g. blue, white, and red). Assume the user provides the y axis value of interest as a parameter or variable.\n",
    "\n",
    "**Harder option:** Implement the bar coloring as described in the paper, where the color of the bar is actually based on the amount of data covered (e.g. a gradient ranging from dark blue for the distribution being certainly below this y-axis, to white if the value is certainly contained, to dark red if the value is certainly not contained as the distribution is above the axis).\n",
    "\n",
    "**Even Harder option:** Add interactivity to the above, which allows the user to click on the y axis to set the value of interest. The bar colors should change with respect to what value the user has selected.\n",
    "\n",
    "**Hardest option:** Allow the user to interactively set a range of y values they are interested in, and recolor based on this (e.g. a y-axis band, see the paper for more details).\n",
    "\n",
    "---\n",
    "\n",
    "*Note: The data given for this assignment is not the same as the data used in the article and as a result the visualizations may look a little different.*"
   ]
  },
  {
   "cell_type": "code",
   "execution_count": 60,
   "metadata": {
    "nbgrader": {
     "grade": false,
     "grade_id": "cell-ea6be57836ed5374",
     "locked": true,
     "schema_version": 3,
     "solution": false,
     "task": false
    }
   },
   "outputs": [
    {
     "name": "stdout",
     "output_type": "stream",
     "text": [
      "1992    3320.866311\n",
      "1993    1628.701180\n",
      "1994    2323.419534\n",
      "1995    1155.026400\n",
      "dtype: float64\n",
      "1992    26803.209506\n",
      "1993    38669.605227\n",
      "1994    34939.402654\n",
      "1995    45479.699225\n",
      "dtype: float64\n",
      "1992    39821.005446\n",
      "1993    45054.113855\n",
      "1994    44047.207228\n",
      "1995    50007.402714\n",
      "dtype: float64\n",
      "1992    33312.107476\n",
      "1993    41861.859541\n",
      "1994    39493.304941\n",
      "1995    47743.550969\n",
      "dtype: float64\n"
     ]
    }
   ],
   "source": [
    "# Use the following data for this assignment:\n",
    "\n",
    "import pandas as pd\n",
    "import numpy as np\n",
    "\n",
    "np.random.seed(12345)\n",
    "\n",
    "df = pd.DataFrame([np.random.normal(32000,200000,3650), \n",
    "                   np.random.normal(43000,100000,3650), \n",
    "                   np.random.normal(43500,140000,3650), \n",
    "                   np.random.normal(48000,70000,3650)], \n",
    "                  index=[1992,1993,1994,1995])\n",
    "\n",
    "mean_df = df.mean(axis=1)\n",
    "std_df = df.std(axis=1)\n",
    "\n",
    "std_error = std_df / np.sqrt(3650)\n",
    "\n",
    "print(std_error)\n",
    "\n",
    "lower_bound_df = mean_df - 1.96 * std_error\n",
    "upper_bound_df = mean_df + 1.96 * std_error\n",
    "\n",
    "print(lower_bound_df)\n",
    "print(upper_bound_df)\n",
    "\n",
    "error = 1.96 * std_error\n",
    "\n",
    "print(mean_df)"
   ]
  },
  {
   "cell_type": "code",
   "execution_count": 61,
   "metadata": {},
   "outputs": [
    {
     "data": {
      "image/png": "[encoded data removed]",
      "text/plain": [
       "<Figure size 648x432 with 2 Axes>"
      ]
     },
     "metadata": {
      "needs_background": "light"
     },
     "output_type": "display_data"
    }
   ],
   "source": [
    "import matplotlib.pyplot as plt\n",
    "from mpl_toolkits.axes_grid1.inset_locator import inset_axes\n",
    "\n",
    "fig, ax = plt.subplots(figsize=(9, 6))\n",
    "\n",
    "\n",
    "bar_plot = mean_df.plot(kind='bar', \n",
    "             width=1, \n",
    "             ylim=(-1000, 60000),\n",
    "             fontsize=12, \n",
    "             yerr=error,\n",
    "             capsize=15,\n",
    "             edgecolor='black', \n",
    "             color='lightblue', \n",
    "             ax=ax)\n",
    "\n",
    "\n",
    "ax.axhline(y=39000, linestyle='dotted', color='black')\n",
    "\n",
    "\n",
    "ax.spines[['right', 'top', 'bottom', 'left']].set_visible(False)\n",
    "ax.tick_params(axis='x', labelrotation=0, labelsize=12, pad=5, length=0)\n",
    "\n",
    "axins = inset_axes(\n",
    "    ax,\n",
    "    width=\"50%\",  # width: 50% of parent_bbox width\n",
    "    height=\"5%\", # height: 50%\n",
    "    loc=\"lower right\",\n",
    "    bbox_to_anchor=(0., -0.2, 1, 1),\n",
    "    bbox_transform=ax.transAxes,\n",
    "    borderpad=0,\n",
    ")\n",
    "\n",
    "\n",
    "cmap = plt.cm.get_cmap('coolwarm')\n",
    "\n",
    "# Tu nastavíme prístup k axes pre colorbar\n",
    "norm = plt.Normalize(vmin=0, vmax=1)\n",
    "cbar = plt.colorbar(plt.cm.ScalarMappable(norm=norm, cmap='coolwarm'), \n",
    "                    ax=ax, \n",
    "                    cax=axins,\n",
    "                    orientation='horizontal', \n",
    "                    shrink=0.7)\n",
    "\n",
    "# Zmeníme veľkosť figure, aby sme spravili priestor pre colorbar\n",
    "fig.subplots_adjust(bottom=0.2)  # Adjustovanie spodnej časti pre colorbar\n",
    "\n",
    "ticks = np.linspace(0, 1, 11)  # [0.00, 0.10, ..., 1.00]\n",
    "cbar.set_ticks(ticks)\n",
    "\n",
    "\n",
    "bars = ax.patches\n",
    "\n",
    "normalize_color_df = (39000 - lower_bound_df) / (upper_bound_df - lower_bound_df)\n",
    "normalize_color_df[normalize_color_df > 1] = 0.0\n",
    "normalize_color_df[normalize_color_df < 0] = 1.0\n",
    "\n",
    "normalize_color_df.round(1)\n",
    "\n",
    "for i in range(len(bars)):\n",
    "    bars[i].set_color(cmap(normalize_color_df.iloc[i]))\n",
    "\n",
    "plt.savefig('confidence_level_bars.png')\n",
    "plt.show()"
   ]
  },
  {
   "cell_type": "code",
   "execution_count": 62,
   "metadata": {},
   "outputs": [
    {
     "name": "stdout",
     "output_type": "stream",
     "text": [
      "1992    0.936932\n",
      "1993    0.051749\n",
      "1994    0.445837\n",
      "1995    1.000000\n",
      "dtype: float64\n"
     ]
    }
   ],
   "source": [
    "normalize_color_df = (39000 - lower_bound_df) / (upper_bound_df - lower_bound_df)\n",
    "normalize_color_df[normalize_color_df > 1] = 0.0\n",
    "normalize_color_df[normalize_color_df < 0] = 1.0\n",
    "\n",
    "print(normalize_color_df)"
   ]
  },
  {
   "cell_type": "code",
   "execution_count": null,
   "metadata": {},
   "outputs": [],
   "source": []
  }
 ],
 "metadata": {
  "celltoolbar": "Create Assignment",
  "kernelspec": {
   "display_name": "Python 3 (ipykernel)",
   "language": "python",
   "name": "python3"
  },
  "language_info": {
   "codemirror_mode": {
    "name": "ipython",
    "version": 3
   },
   "file_extension": ".py",
   "mimetype": "text/x-python",
   "name": "python",
   "nbconvert_exporter": "python",
   "pygments_lexer": "ipython3",
   "version": "3.8.10"
  },
  "vscode": {
   "interpreter": {
    "hash": "aee8b7b246df8f9039afb4144a1f6fd8d2ca17a180786b69acc140d282b71a49"
   }
  }
 },
 "nbformat": 4,
 "nbformat_minor": 4
}
