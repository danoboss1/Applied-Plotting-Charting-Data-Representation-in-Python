{
 "cells": [
  {
   "cell_type": "markdown",
   "metadata": {
    "deletable": false,
    "editable": false,
    "nbgrader": {
     "cell_type": "markdown",
     "checksum": "7539457c865cc3aec382650368b3be67",
     "grade": false,
     "grade_id": "cell-2ccb6b5d27ca3b7d",
     "locked": true,
     "schema_version": 3,
     "solution": false,
     "task": false
    }
   },
   "source": [
    "# Assignment 4\n",
    "\n",
    "Before working on this assignment please read these instructions fully. In the submission area, you will notice that you can click the link to **Preview the Grading** for each step of the assignment. This is the criteria that will be used for peer grading. Please familiarize yourself with the criteria before beginning the assignment.\n",
    "\n",
    "This assignment requires that you find **at least two datasets** on the web which are related, and that you visualize these datasets to answer the assignment question. You are free to utilize datasets with any location or domain, the usage of **Ann Arbor sports and athletics** datasets in the example is just a suggestion.\n",
    "\n",
    "You are welcome to choose datasets at your discretion, but keep in mind **they will be shared with your peers**, so choose appropriate datasets. Sensitive, confidential, illicit, and proprietary materials are not good choices for datasets for this assignment. You are welcome to upload datasets of your own as well, and link to them using a third party repository such as github, pastebin, etc. Please be aware of the Coursera terms of service with respect to intellectual property.\n",
    "\n",
    "Also, you are welcome to preserve data in its original language, but for the purposes of grading you should provide english translations. You are welcome to provide multiple visuals in different languages if you would like!\n",
    "\n",
    "As this assignment is for the whole course, you must incorporate principles discussed in the first week, such as having as high data-ink ratio (Tufte) and aligning with Cairo’s principles of truth, beauty, function, and insight.\n",
    "\n",
    "Here are the assignment instructions:\n",
    "\n",
    " * You must state a question you are seeking to answer with your visualizations.\n",
    " * You must provide at least two links to available datasets. These could be links to files such as CSV or Excel files, or links to websites which might have data in tabular form, such as Wikipedia pages.\n",
    " * You must upload an image which addresses the research question you stated. In addition to addressing the question, this visual should follow Cairo's principles of truthfulness, functionality, beauty, and insightfulness.\n",
    " * You must contribute a short (1-2 paragraph) written justification of how your visualization addresses your stated research question.\n",
    "\n",
    "## Tips\n",
    "* Wikipedia is an excellent source of data, and I strongly encourage you to explore it for new data sources.\n",
    "* Many governments run open data initiatives at the city, region, and country levels, and these are wonderful resources for localized data sources.\n",
    "* Several international agencies, such as the [United Nations](http://data.un.org/), the [World Bank](http://data.worldbank.org/), the [Global Open Data Index](http://index.okfn.org/place/) are other great places to look for data.\n",
    "* This assignment requires you to convert and clean datafiles. Check out the discussion forums for tips on how to do this from various sources, and share your successes with your fellow students!\n",
    "\n",
    "## Example\n",
    "Looking for an example? Here's what our course assistant put together as an example! [Example Solution File](./readonly/Assignment4_example.pdf)"
   ]
  },
  {
   "cell_type": "code",
   "execution_count": 44,
   "metadata": {},
   "outputs": [],
   "source": [
    "import numpy as np \n",
    "import pandas as pd\n",
    "import matplotlib.pyplot as plt\n",
    "import ipywidgets as widgets\n",
    "from IPython.display import display\n",
    "\n",
    "dataframes_names = ['Pesticides (total)', 'Insecticides', 'Herbicides', 'Fungicides and Bactericides', 'Plant Growth Regulators', 'Rodenticides', 'Other Pesticides nes']"
   ]
  },
  {
   "cell_type": "code",
   "execution_count": 45,
   "metadata": {},
   "outputs": [],
   "source": [
    "poland_df = pd.read_csv('FAOSTAT_pesticides_Poland.csv')\n",
    "\n",
    "poland_dataframes = {}\n",
    "\n",
    "for dataframe_name in dataframes_names:\n",
    "    if dataframe_name == 'Pesticides (total)':\n",
    "        df = poland_df[(poland_df['Item'] == dataframe_name) & (poland_df['Unit'] == 'kg/ha')]\n",
    "    else:\n",
    "        df = poland_df[poland_df['Item'] == dataframe_name]\n",
    "    \n",
    "    df = df[['Year', 'Value']]\n",
    "    df.set_index(keys='Year', inplace=True)\n",
    "    \n",
    "    if 2012 in df.index:\n",
    "        df = df.drop(2012)\n",
    "    \n",
    "    if dataframe_name == 'Fungicides and Bactericides':\n",
    "        poland_dataframes['poland_Fungicides & Bactericides_df'] = df\n",
    "    elif dataframe_name == 'Other Pesticides nes':   \n",
    "        poland_dataframes['poland_Other Pesticides_df'] = df\n",
    "    else:\n",
    "        poland_dataframes[f\"poland_{dataframe_name}_df\"] = df\n",
    "        "
   ]
  },
  {
   "cell_type": "code",
   "execution_count": 46,
   "metadata": {},
   "outputs": [],
   "source": [
    "denmark_df = pd.read_csv('FAOSTAT_pesticides_Denmark.csv')\n",
    "\n",
    "denmark_dataframes = {}\n",
    "\n",
    "for dataframe_name in dataframes_names:\n",
    "    if dataframe_name == 'Pesticides (total)':\n",
    "        df = denmark_df[(denmark_df['Item'] == dataframe_name) & (denmark_df['Unit'] == 'kg/ha')]\n",
    "    else:\n",
    "        df = denmark_df[denmark_df['Item'] == dataframe_name]\n",
    "    \n",
    "    df = df[['Year', 'Value']]\n",
    "    df.set_index(keys='Year', inplace=True)\n",
    "    \n",
    "    if 2012 in df.index:\n",
    "        df = df.drop(2012)\n",
    "    \n",
    "    if dataframe_name == 'Fungicides and Bactericides':\n",
    "        denmark_dataframes['denmark_Fungicides & Bactericides_df'] = df\n",
    "    elif dataframe_name == 'Other Pesticides nes':   \n",
    "        denmark_dataframes['denmark_Other Pesticides_df'] = df\n",
    "    else:\n",
    "        denmark_dataframes[f\"denmark_{dataframe_name}_df\"] = df\n",
    "        "
   ]
  },
  {
   "cell_type": "code",
   "execution_count": 50,
   "metadata": {},
   "outputs": [
    {
     "data": {
      "application/vnd.jupyter.widget-view+json": {
       "model_id": "ba7fb96f7aed47a9891a9b6c2843e3ec",
       "version_major": 2,
       "version_minor": 0
      },
      "text/plain": [
       "interactive(children=(Dropdown(description='Type:', options=('Pesticides (total)', 'Insecticides', 'Herbicides…"
      ]
     },
     "metadata": {},
     "output_type": "display_data"
    }
   ],
   "source": [
    "def update_graph(pesticide_type):\n",
    "    poland_df = poland_dataframes[f\"poland_{pesticide_type}_df\"]\n",
    "    denmark_df = denmark_dataframes[f\"denmark_{pesticide_type}_df\"]\n",
    "    \n",
    "    plt.figure(figsize=(10, 5))\n",
    "    \n",
    "    plt.plot(poland_df.index, poland_df['Value'], color='#E1AD01', label='Poland', linewidth=3)\n",
    "    plt.plot(denmark_df.index, denmark_df['Value'], color='#C60C30', label='Denmark', linewidth=3)\n",
    "\n",
    "    ax = plt.gca()\n",
    "    ax.spines[['right', 'top', 'left', 'bottom']].set_visible(False)\n",
    "    \n",
    "    if pesticide_type == 'Pesticides (total)':\n",
    "        ax.set_title(f\"{pesticide_type} Use\\nkg/ha\", alpha=0.7)\n",
    "        ax.set_ylabel(\"kg/ha\", alpha=0.7)\n",
    "        ax.set_xlabel(\"Year\", alpha=0.7)\n",
    "    else:\n",
    "        ax.set_title(f\"{pesticide_type} Use\\nin tones\", alpha=0.7)\n",
    "        ax.set_ylabel(\"t\", alpha=0.7)\n",
    "        ax.set_xlabel(\"Year\", alpha=0.7)\n",
    "    \n",
    "    plt.yticks(alpha=0.7)\n",
    "    plt.xticks(np.arange(2013, 2023, 1), alpha=0.7)\n",
    "\n",
    "    plt.grid(axis='y', linestyle='--', alpha=0.3)\n",
    "    plt.tick_params(axis='both', which='both', bottom=False, left=False, top=False)\n",
    "    \n",
    "    min_val = min(poland_df.values.min(), denmark_df.values.min())\n",
    "    max_val = max(poland_df.values.max(), denmark_df.values.max())\n",
    "\n",
    "    range = max_val - min_val\n",
    "    range = range / 8 \n",
    "    \n",
    "    # Country names annotations\n",
    "    if 2022 in poland_df.index and 2022 in denmark_df.index:\n",
    "        if (abs(poland_df.loc[2022, 'Value'] - denmark_df.loc[2022, 'Value']) < range) and (poland_df.loc[2022, 'Value'] >= denmark_df.loc[2022, 'Value']):\n",
    "            plt.annotate('Poland', (2022, poland_df.loc[2022, 'Value']), xytext=(2022.3, poland_df.loc[2022, 'Value'] + (range/2)), color='#E1AD01', fontweight = 'bold')\n",
    "            plt.annotate('Denmark', (2022, denmark_df.loc[2022, 'Value']), xytext=(2022.3, denmark_df.loc[2022, 'Value'] - (range/2)), color='#C60C30', fontweight = 'bold')\n",
    "        elif (abs(poland_df.loc[2022, 'Value'] - denmark_df.loc[2022, 'Value']) < range) and (poland_df.loc[2022, 'Value'] < denmark_df.loc[2022, 'Value']):\n",
    "            plt.annotate('Poland', (2022, poland_df.loc[2022, 'Value']), xytext=(2022.3, poland_df.loc[2022, 'Value'] - (range/2)), color='#E1AD01', fontweight = 'bold')\n",
    "            plt.annotate('Denmark', (2022, denmark_df.loc[2022, 'Value']), xytext=(2022.3, denmark_df.loc[2022, 'Value'] + (range/2)), color='#C60C30', fontweight = 'bold')\n",
    "        else:\n",
    "            plt.annotate('Poland', (2022, poland_df.loc[2022, 'Value']), xytext=(2022.3, poland_df.loc[2022, 'Value'] + 0.02), color='#E1AD01', fontweight = 'bold')\n",
    "            plt.annotate('Denmark', (2022, denmark_df.loc[2022, 'Value']), xytext=(2022.3, denmark_df.loc[2022, 'Value'] + 0.02), color='#C60C30', fontweight = 'bold')\n",
    "    \n",
    "    plt.savefig(f\"{pesticide_type}_use.png\", dpi=300)  \n",
    "    plt.show();\n",
    "    \n",
    "\n",
    "dropdown = widgets.Dropdown(\n",
    "    options=['Pesticides (total)', 'Insecticides', 'Herbicides', 'Fungicides & Bactericides', 'Plant Growth Regulators', 'Rodenticides', 'Other Pesticides'],\n",
    "    value='Pesticides (total)',\n",
    "    description='Type:',\n",
    ")\n",
    "\n",
    "widgets.interact(update_graph, pesticide_type=dropdown);\n"
   ]
  },
  {
   "cell_type": "code",
   "execution_count": null,
   "metadata": {},
   "outputs": [],
   "source": []
  }
 ],
 "metadata": {
  "coursera": {
   "schema_names": [
    "mooc_adswpy_v1_assignment4"
   ]
  },
  "kernelspec": {
   "display_name": "Python 3 (ipykernel)",
   "language": "python",
   "name": "python3"
  },
  "language_info": {
   "codemirror_mode": {
    "name": "ipython",
    "version": 3
   },
   "file_extension": ".py",
   "mimetype": "text/x-python",
   "name": "python",
   "nbconvert_exporter": "python",
   "pygments_lexer": "ipython3",
   "version": "3.8.10"
  },
  "vscode": {
   "interpreter": {
    "hash": "aee8b7b246df8f9039afb4144a1f6fd8d2ca17a180786b69acc140d282b71a49"
   }
  }
 },
 "nbformat": 4,
 "nbformat_minor": 4
}
