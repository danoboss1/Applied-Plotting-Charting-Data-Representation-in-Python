{
 "cells": [
  {
   "cell_type": "code",
   "execution_count": 111,
   "metadata": {
    "deletable": false,
    "editable": false,
    "nbgrader": {
     "cell_type": "code",
     "checksum": "e45d05a7e6705e7bc18fff5d5890ef58",
     "grade": false,
     "grade_id": "cell-44ca835c70f3040a",
     "locked": true,
     "schema_version": 3,
     "solution": false,
     "task": false
    }
   },
   "outputs": [
    {
     "data": {
      "application/javascript": [
       "IPython.OutputArea.prototype._should_scroll = function(lines) {\n",
       "    return false; // disable scroll bar when displaying Folium map\n",
       "}\n"
      ],
      "text/plain": [
       "<IPython.core.display.Javascript object>"
      ]
     },
     "metadata": {},
     "output_type": "display_data"
    }
   ],
   "source": [
    "%%javascript\n",
    "IPython.OutputArea.prototype._should_scroll = function(lines) {\n",
    "    return false; // disable scroll bar when displaying Folium map\n",
    "}"
   ]
  },
  {
   "cell_type": "markdown",
   "metadata": {
    "deletable": false,
    "editable": false,
    "nbgrader": {
     "cell_type": "markdown",
     "checksum": "ae6111747a75bdb5c5393f44d1045577",
     "grade": false,
     "grade_id": "cell-c676d66924c74eea",
     "locked": true,
     "schema_version": 3,
     "solution": false,
     "task": false
    }
   },
   "source": [
    "# Assignment 2\n",
    "\n",
    "Before working on this assignment please read these instructions fully. In the submission area, you will notice that you can click the link to **Preview the Grading** for each step of the assignment. This is the criteria that will be used for peer grading. Please familiarize yourself with the criteria before beginning the assignment.\n",
    "\n",
    "The data for this assignment comes from a subset of The National Centers for Environmental Information (NCEI) [Global Historical Climatology Network daily (GHCNd)](https://www.ncei.noaa.gov/products/land-based-station/global-historical-climatology-network-daily) (GHCN-Daily). The GHCN-Daily is comprised of daily climate records from thousands of land surface stations across the globe - it's a wonderfully large dataset to play with! In particular, you will be asked to use data from the Ann Arbor Michigan location (my home!). and this is stored in the file: `assets/fb441e62df2d58994928907a91895ec62c2c42e6cd075c2700843b89.csv`\n",
    "\n",
    "Each row in this datafile corresponds to a single observation from a weather station, and has the following variables:\n",
    "* **id** : station identification code\n",
    "* **date** : date in YYYY-MM-DD format (e.g. 2012-01-24 = January 24, 2012)\n",
    "* **element** : indicator of element type\n",
    "    * TMAX : Maximum temperature (tenths of degrees C)\n",
    "    * TMIN : Minimum temperature (tenths of degrees C)\n",
    "* **value** : data value for element (tenths of degrees C)\n",
    "\n",
    "For this assignment, you must:\n",
    "\n",
    "1. Read the documentation and familiarize yourself with the dataset, then write a python notebook which plots line graphs of the record high and record low temperatures by day of the year over the period 2005-2014. The area between the record high and record low temperatures for each day should be shaded.\n",
    "2. Overlay a scatter of the 2015 data for any points (highs and lows) for which the ten year record (2005-2014) record high or record low was broken in 2015. (Based on the graph, do you think extreme weather is getting more frequent in 2015?)\n",
    "3. Watch out for leap days (i.e. February 29th), it is reasonable to remove these points from the dataset for the purpose of this visualization.\n",
    "4. Make the visual nice! Leverage principles from the first module in this course when developing your solution. Consider issues such as legends, labels, and chart junk.\n",
    "\n",
    "I've written some steps I think would be good to go through, but there are other ways to solve this assignment so feel free to explore the pandas library! What I really want to see is an image that looks like this sketch I drew at my desk:\n",
    "\n",
    "![](assets/chris_sketch.png)"
   ]
  },
  {
   "cell_type": "code",
   "execution_count": 112,
   "metadata": {
    "deletable": false,
    "editable": false,
    "nbgrader": {
     "cell_type": "code",
     "checksum": "d8d9355fc55599cd2ad34fdd140baac1",
     "grade": false,
     "grade_id": "cell-f01cb0e8645e7c07",
     "locked": true,
     "schema_version": 3,
     "solution": false,
     "task": false
    }
   },
   "outputs": [
    {
     "data": {
      "text/html": [
       "<div style=\"width:100%;\"><div style=\"position:relative;width:100%;height:0;padding-bottom:60%;\"><span style=\"color:#565656\">Make this Notebook Trusted to load map: File -> Trust Notebook</span><iframe srcdoc=\"&lt;!DOCTYPE html&gt;\n",
       "&lt;html&gt;\n",
       "&lt;head&gt;\n",
       "    \n",
       "    &lt;meta http-equiv=&quot;content-type&quot; content=&quot;text/html; charset=UTF-8&quot; /&gt;\n",
       "    \n",
       "        &lt;script&gt;\n",
       "            L_NO_TOUCH = false;\n",
       "            L_DISABLE_3D = false;\n",
       "        &lt;/script&gt;\n",
       "    \n",
       "    &lt;style&gt;html, body {width: 100%;height: 100%;margin: 0;padding: 0;}&lt;/style&gt;\n",
       "    &lt;style&gt;#map {position:absolute;top:0;bottom:0;right:0;left:0;}&lt;/style&gt;\n",
       "    &lt;script src=&quot;https://cdn.jsdelivr.net/npm/leaflet@1.6.0/dist/leaflet.js&quot;&gt;&lt;/script&gt;\n",
       "    &lt;script src=&quot;https://code.jquery.com/jquery-1.12.4.min.js&quot;&gt;&lt;/script&gt;\n",
       "    &lt;script src=&quot;https://maxcdn.bootstrapcdn.com/bootstrap/3.2.0/js/bootstrap.min.js&quot;&gt;&lt;/script&gt;\n",
       "    &lt;script src=&quot;https://cdnjs.cloudflare.com/ajax/libs/Leaflet.awesome-markers/2.0.2/leaflet.awesome-markers.js&quot;&gt;&lt;/script&gt;\n",
       "    &lt;link rel=&quot;stylesheet&quot; href=&quot;https://cdn.jsdelivr.net/npm/leaflet@1.6.0/dist/leaflet.css&quot;/&gt;\n",
       "    &lt;link rel=&quot;stylesheet&quot; href=&quot;https://maxcdn.bootstrapcdn.com/bootstrap/3.2.0/css/bootstrap.min.css&quot;/&gt;\n",
       "    &lt;link rel=&quot;stylesheet&quot; href=&quot;https://maxcdn.bootstrapcdn.com/bootstrap/3.2.0/css/bootstrap-theme.min.css&quot;/&gt;\n",
       "    &lt;link rel=&quot;stylesheet&quot; href=&quot;https://maxcdn.bootstrapcdn.com/font-awesome/4.6.3/css/font-awesome.min.css&quot;/&gt;\n",
       "    &lt;link rel=&quot;stylesheet&quot; href=&quot;https://cdnjs.cloudflare.com/ajax/libs/Leaflet.awesome-markers/2.0.2/leaflet.awesome-markers.css&quot;/&gt;\n",
       "    &lt;link rel=&quot;stylesheet&quot; href=&quot;https://cdn.jsdelivr.net/gh/python-visualization/folium/folium/templates/leaflet.awesome.rotate.min.css&quot;/&gt;\n",
       "    \n",
       "            &lt;meta name=&quot;viewport&quot; content=&quot;width=device-width,\n",
       "                initial-scale=1.0, maximum-scale=1.0, user-scalable=no&quot; /&gt;\n",
       "            &lt;style&gt;\n",
       "                #map_0830ce4036094be1172bd3aa2f9c3dd6 {\n",
       "                    position: relative;\n",
       "                    width: 100.0%;\n",
       "                    height: 500.0px;\n",
       "                    left: 0.0%;\n",
       "                    top: 0.0%;\n",
       "                }\n",
       "            &lt;/style&gt;\n",
       "        \n",
       "&lt;/head&gt;\n",
       "&lt;body&gt;\n",
       "    \n",
       "    \n",
       "            &lt;div class=&quot;folium-map&quot; id=&quot;map_0830ce4036094be1172bd3aa2f9c3dd6&quot; &gt;&lt;/div&gt;\n",
       "        \n",
       "&lt;/body&gt;\n",
       "&lt;script&gt;\n",
       "    \n",
       "    \n",
       "            var map_0830ce4036094be1172bd3aa2f9c3dd6 = L.map(\n",
       "                &quot;map_0830ce4036094be1172bd3aa2f9c3dd6&quot;,\n",
       "                {\n",
       "                    center: [41.9164, -84.0158],\n",
       "                    crs: L.CRS.EPSG3857,\n",
       "                    zoom: 9,\n",
       "                    zoomControl: true,\n",
       "                    preferCanvas: false,\n",
       "                }\n",
       "            );\n",
       "\n",
       "            \n",
       "\n",
       "        \n",
       "    \n",
       "            var tile_layer_a63c95e5ef8a7962e2bc48ddde797e12 = L.tileLayer(\n",
       "                &quot;https://{s}.tile.openstreetmap.org/{z}/{x}/{y}.png&quot;,\n",
       "                {&quot;attribution&quot;: &quot;Data by \\u0026copy; \\u003ca href=\\&quot;http://openstreetmap.org\\&quot;\\u003eOpenStreetMap\\u003c/a\\u003e, under \\u003ca href=\\&quot;http://www.openstreetmap.org/copyright\\&quot;\\u003eODbL\\u003c/a\\u003e.&quot;, &quot;detectRetina&quot;: false, &quot;maxNativeZoom&quot;: 18, &quot;maxZoom&quot;: 18, &quot;minZoom&quot;: 0, &quot;noWrap&quot;: false, &quot;opacity&quot;: 1, &quot;subdomains&quot;: &quot;abc&quot;, &quot;tms&quot;: false}\n",
       "            ).addTo(map_0830ce4036094be1172bd3aa2f9c3dd6);\n",
       "        \n",
       "    \n",
       "            var marker_baefbdb586b9896a946cb733318c680c = L.marker(\n",
       "                [41.9164, -84.0158],\n",
       "                {}\n",
       "            ).addTo(map_0830ce4036094be1172bd3aa2f9c3dd6);\n",
       "        \n",
       "    \n",
       "            var marker_1dfeaf897c98465c9e76c88ed2bdbf40 = L.marker(\n",
       "                [42.2875, -83.7611],\n",
       "                {}\n",
       "            ).addTo(map_0830ce4036094be1172bd3aa2f9c3dd6);\n",
       "        \n",
       "    \n",
       "            var marker_f3036a6663db7ae2160665afe28437a2 = L.marker(\n",
       "                [42.2417, -83.6933],\n",
       "                {}\n",
       "            ).addTo(map_0830ce4036094be1172bd3aa2f9c3dd6);\n",
       "        \n",
       "    \n",
       "            var marker_211681cdb9735e4eca3dc2d66a352a4c = L.marker(\n",
       "                [42.2947, -83.7108],\n",
       "                {}\n",
       "            ).addTo(map_0830ce4036094be1172bd3aa2f9c3dd6);\n",
       "        \n",
       "    \n",
       "            var marker_d2b459d4df4a3662f7bda0558a4a3f17 = L.marker(\n",
       "                [41.84, -83.8608],\n",
       "                {}\n",
       "            ).addTo(map_0830ce4036094be1172bd3aa2f9c3dd6);\n",
       "        \n",
       "    \n",
       "            var marker_6e6e34ac6152bca62daee702cbc3428a = L.marker(\n",
       "                [42.0636, -83.4358],\n",
       "                {}\n",
       "            ).addTo(map_0830ce4036094be1172bd3aa2f9c3dd6);\n",
       "        \n",
       "    \n",
       "            var marker_163e4e2bcabb8ab9201b8d0d39593617 = L.marker(\n",
       "                [42.3264, -84.0133],\n",
       "                {}\n",
       "            ).addTo(map_0830ce4036094be1172bd3aa2f9c3dd6);\n",
       "        \n",
       "    \n",
       "            var marker_ac1b8d9e70c04761c73d0d0473f1e03b = L.marker(\n",
       "                [41.9553, -83.6489],\n",
       "                {}\n",
       "            ).addTo(map_0830ce4036094be1172bd3aa2f9c3dd6);\n",
       "        \n",
       "    \n",
       "            var marker_435ceb89cecf97aa732a4679e75bcfd4 = L.marker(\n",
       "                [42.4344, -83.9858],\n",
       "                {}\n",
       "            ).addTo(map_0830ce4036094be1172bd3aa2f9c3dd6);\n",
       "        \n",
       "    \n",
       "            var marker_9095e3ffb97a807ecc941c6631bca5f6 = L.marker(\n",
       "                [42.1508, -84.0236],\n",
       "                {}\n",
       "            ).addTo(map_0830ce4036094be1172bd3aa2f9c3dd6);\n",
       "        \n",
       "    \n",
       "            var marker_2c0453f8e68895c37ce3f61d540d478b = L.marker(\n",
       "                [42.0664, -83.6186],\n",
       "                {}\n",
       "            ).addTo(map_0830ce4036094be1172bd3aa2f9c3dd6);\n",
       "        \n",
       "    \n",
       "            var marker_e5315b4c51b6180c0c885832f2374914 = L.marker(\n",
       "                [42.0811, -83.6769],\n",
       "                {}\n",
       "            ).addTo(map_0830ce4036094be1172bd3aa2f9c3dd6);\n",
       "        \n",
       "    \n",
       "            var marker_add24ad9917bf38698849d06ec7e2203 = L.marker(\n",
       "                [41.9069, -83.4158],\n",
       "                {}\n",
       "            ).addTo(map_0830ce4036094be1172bd3aa2f9c3dd6);\n",
       "        \n",
       "    \n",
       "            var marker_226384431e74affa02fd2e1570a17ea9 = L.marker(\n",
       "                [41.9497, -83.28],\n",
       "                {}\n",
       "            ).addTo(map_0830ce4036094be1172bd3aa2f9c3dd6);\n",
       "        \n",
       "    \n",
       "            var marker_80fa552d347d2191e08dd3e4220c10f5 = L.marker(\n",
       "                [42.1611, -83.7819],\n",
       "                {}\n",
       "            ).addTo(map_0830ce4036094be1172bd3aa2f9c3dd6);\n",
       "        \n",
       "    \n",
       "            var marker_476365846f1459102e4116f6b98c8756 = L.marker(\n",
       "                [42.1236, -83.82],\n",
       "                {}\n",
       "            ).addTo(map_0830ce4036094be1172bd3aa2f9c3dd6);\n",
       "        \n",
       "    \n",
       "            var marker_94239f17e4f3c09aa153eb7ebe0ec7ef = L.marker(\n",
       "                [41.8069, -83.5831],\n",
       "                {}\n",
       "            ).addTo(map_0830ce4036094be1172bd3aa2f9c3dd6);\n",
       "        \n",
       "    \n",
       "            var marker_7b43a6f144acbb74b9afcc9c6889c46d = L.marker(\n",
       "                [42.0028, -83.9336],\n",
       "                {}\n",
       "            ).addTo(map_0830ce4036094be1172bd3aa2f9c3dd6);\n",
       "        \n",
       "    \n",
       "            var marker_66dcc79919e6f2c7fc4e98565643dcfd = L.marker(\n",
       "                [42.0283, -84.1108],\n",
       "                {}\n",
       "            ).addTo(map_0830ce4036094be1172bd3aa2f9c3dd6);\n",
       "        \n",
       "    \n",
       "            var marker_ff9220dd9bb29a85e3ab35643fa3a774 = L.marker(\n",
       "                [42.4356, -83.7831],\n",
       "                {}\n",
       "            ).addTo(map_0830ce4036094be1172bd3aa2f9c3dd6);\n",
       "        \n",
       "    \n",
       "            var marker_fb7b73ef4a0d245ef85ad0b95a82201a = L.marker(\n",
       "                [41.5631, -83.4764],\n",
       "                {}\n",
       "            ).addTo(map_0830ce4036094be1172bd3aa2f9c3dd6);\n",
       "        \n",
       "    \n",
       "            var marker_eb87cf31b96edcf7bdc1b6a8818f3802 = L.marker(\n",
       "                [42.2667, -84.4667],\n",
       "                {}\n",
       "            ).addTo(map_0830ce4036094be1172bd3aa2f9c3dd6);\n",
       "        \n",
       "    \n",
       "            var marker_9c1e521d1fea513cbfa2fd6507913341 = L.marker(\n",
       "                [42.2333, -83.5333],\n",
       "                {}\n",
       "            ).addTo(map_0830ce4036094be1172bd3aa2f9c3dd6);\n",
       "        \n",
       "    \n",
       "            var marker_ae7c010b0f981284d2506ed153b1be6c = L.marker(\n",
       "                [42.2228, -83.7444],\n",
       "                {}\n",
       "            ).addTo(map_0830ce4036094be1172bd3aa2f9c3dd6);\n",
       "        \n",
       "&lt;/script&gt;\n",
       "&lt;/html&gt;\" style=\"position:absolute;width:100%;height:100%;left:0;top:0;border:none !important;\" allowfullscreen webkitallowfullscreen mozallowfullscreen></iframe></div></div>"
      ],
      "text/plain": [
       "<folium.folium.Map at 0x7bcad9881d30>"
      ]
     },
     "metadata": {},
     "output_type": "display_data"
    }
   ],
   "source": [
    "#  I'll be using the folium package to render the data into a map in Jupyter.\n",
    "\n",
    "import folium\n",
    "import pandas as pd\n",
    "\n",
    "# get the location information for this dataset\n",
    "df = pd.read_csv('assets/BinSize_d400.csv')\n",
    "station_locations_by_hash = df[df['hash'] == 'fb441e62df2d58994928907a91895ec62c2c42e6cd075c2700843b89']\n",
    "\n",
    "# get longitude and lattitude to plot\n",
    "lons = station_locations_by_hash['LONGITUDE'].tolist()\n",
    "lats = station_locations_by_hash['LATITUDE'].tolist()\n",
    "\n",
    "# plot on a beautiful folium map\n",
    "my_map = folium.Map(location = [lats[0], lons[0]], height = 500,  zoom_start = 9)\n",
    "for lat, lon in zip(lats, lons):\n",
    "    folium.Marker([lat, lon]).add_to(my_map)\n",
    "\n",
    "# render map in Jupyter\n",
    "display(my_map)"
   ]
  },
  {
   "cell_type": "markdown",
   "metadata": {
    "deletable": false,
    "editable": false,
    "nbgrader": {
     "cell_type": "markdown",
     "checksum": "d2ee9d3c5ac53844b3ed48aa157f6204",
     "grade": false,
     "grade_id": "cell-695e4689bc5509b6",
     "locked": true,
     "schema_version": 3,
     "solution": false,
     "task": false
    }
   },
   "source": [
    "## Step 1\n",
    "Load the dataset and transform the data into Celsius (refer to documentation) then extract all of the rows which have minimum or maximum temperatures.\n",
    "\n",
    "__hint: when I did this step I had two DataFrame objects, each with ~80,000 entries in it__"
   ]
  },
  {
   "cell_type": "code",
   "execution_count": 113,
   "metadata": {
    "deletable": false,
    "editable": false,
    "nbgrader": {
     "cell_type": "code",
     "checksum": "dbfe393a2232a653ebbd81e518237a83",
     "grade": false,
     "grade_id": "cell-f508059dd84e9b7c",
     "locked": true,
     "schema_version": 3,
     "solution": false,
     "task": false
    }
   },
   "outputs": [
    {
     "data": {
      "text/html": [
       "<div>\n",
       "<style scoped>\n",
       "    .dataframe tbody tr th:only-of-type {\n",
       "        vertical-align: middle;\n",
       "    }\n",
       "\n",
       "    .dataframe tbody tr th {\n",
       "        vertical-align: top;\n",
       "    }\n",
       "\n",
       "    .dataframe thead th {\n",
       "        text-align: right;\n",
       "    }\n",
       "</style>\n",
       "<table border=\"1\" class=\"dataframe\">\n",
       "  <thead>\n",
       "    <tr style=\"text-align: right;\">\n",
       "      <th></th>\n",
       "      <th>ID</th>\n",
       "      <th>Date</th>\n",
       "      <th>Element</th>\n",
       "      <th>Data_Value</th>\n",
       "    </tr>\n",
       "  </thead>\n",
       "  <tbody>\n",
       "    <tr>\n",
       "      <th>0</th>\n",
       "      <td>USW00094889</td>\n",
       "      <td>2014-11-12</td>\n",
       "      <td>TMAX</td>\n",
       "      <td>22</td>\n",
       "    </tr>\n",
       "    <tr>\n",
       "      <th>1</th>\n",
       "      <td>USC00208972</td>\n",
       "      <td>2009-04-29</td>\n",
       "      <td>TMIN</td>\n",
       "      <td>56</td>\n",
       "    </tr>\n",
       "    <tr>\n",
       "      <th>2</th>\n",
       "      <td>USC00200032</td>\n",
       "      <td>2008-05-26</td>\n",
       "      <td>TMAX</td>\n",
       "      <td>278</td>\n",
       "    </tr>\n",
       "    <tr>\n",
       "      <th>3</th>\n",
       "      <td>USC00205563</td>\n",
       "      <td>2005-11-11</td>\n",
       "      <td>TMAX</td>\n",
       "      <td>139</td>\n",
       "    </tr>\n",
       "    <tr>\n",
       "      <th>4</th>\n",
       "      <td>USC00200230</td>\n",
       "      <td>2014-02-27</td>\n",
       "      <td>TMAX</td>\n",
       "      <td>-106</td>\n",
       "    </tr>\n",
       "  </tbody>\n",
       "</table>\n",
       "</div>"
      ],
      "text/plain": [
       "            ID        Date Element  Data_Value\n",
       "0  USW00094889  2014-11-12    TMAX          22\n",
       "1  USC00208972  2009-04-29    TMIN          56\n",
       "2  USC00200032  2008-05-26    TMAX         278\n",
       "3  USC00205563  2005-11-11    TMAX         139\n",
       "4  USC00200230  2014-02-27    TMAX        -106"
      ]
     },
     "execution_count": 113,
     "metadata": {},
     "output_type": "execute_result"
    }
   ],
   "source": [
    "import pandas as pd\n",
    "df = pd.read_csv('assets/fb441e62df2d58994928907a91895ec62c2c42e6cd075c2700843b89.csv')\n",
    "df.head()"
   ]
  },
  {
   "cell_type": "code",
   "execution_count": 114,
   "metadata": {},
   "outputs": [
    {
     "name": "stdout",
     "output_type": "stream",
     "text": [
      "                ID        Date Element  Data_Value\n",
      "60995  USW00004848  2005-01-01    TMIN  -17.777778\n",
      "17153  USC00207320  2005-01-01    TMAX   65.555556\n",
      "17155  USC00207320  2005-01-01    TMIN  -23.888889\n",
      "10079  USW00014833  2005-01-01    TMIN  -42.222222\n",
      "10073  USW00014833  2005-01-01    TMAX    0.555556\n",
      "...            ...         ...     ...         ...\n",
      "45691  USC00200032  2015-12-31    TMAX  -11.666667\n",
      "10573  USC00205050  2015-12-31    TMIN  -27.222222\n",
      "21088  USC00208202  2015-12-31    TMAX  -17.777778\n",
      "10253  USC00201250  2015-12-31    TMIN  -21.111111\n",
      "29410  USC00200230  2015-12-31    TMIN  -27.222222\n",
      "\n",
      "[165085 rows x 4 columns]\n"
     ]
    }
   ],
   "source": [
    "df = df.sort_values('Date')\n",
    "df['Data_Value'] = (df['Data_Value'] - 32) * 5/9\n",
    "\n",
    "print(df)"
   ]
  },
  {
   "cell_type": "code",
   "execution_count": 115,
   "metadata": {},
   "outputs": [
    {
     "name": "stdout",
     "output_type": "stream",
     "text": [
      "(76143, 4) (75185, 4) (6920, 4) (6837, 4)\n"
     ]
    }
   ],
   "source": [
    "# split into DataFrames by max,min values and year\n",
    "\n",
    "df_2005_2014 = df[(df['Date'] >= '2005-01-01') & (df['Date'] <= '2014-12-31')]\n",
    "df_2005_2014_MAX = df_2005_2014[df_2005_2014['Element'] == 'TMAX']\n",
    "df_2005_2014_MIN = df_2005_2014[df_2005_2014['Element'] == 'TMIN']\n",
    "\n",
    "df_2015 = df[(df['Date'] >= '2015-01-01') & (df['Date'] <= '2015-12-31')]\n",
    "df_2015_MAX = df_2015[df_2015['Element'] == 'TMAX']\n",
    "df_2015_MIN = df_2015[df_2015['Element'] == 'TMIN']\n",
    "\n",
    "print(df_2005_2014_MAX.shape, df_2005_2014_MIN.shape, df_2015_MAX.shape, df_2015_MIN.shape)"
   ]
  },
  {
   "cell_type": "markdown",
   "metadata": {
    "deletable": false,
    "editable": false,
    "nbgrader": {
     "cell_type": "markdown",
     "checksum": "76f2478088402765c38ed2b9db771916",
     "grade": false,
     "grade_id": "cell-c5718635688cb408",
     "locked": true,
     "schema_version": 3,
     "solution": false,
     "task": false
    }
   },
   "source": [
    "## Step 2\n",
    "In order to visualize the data we would plot the min and max data for each day of the year between the years 2005 and 2014 across all weather stations. But we also need to find out when the min or max temperature in 2015 falls below the min or rises above the max for the previous decade.\n",
    "\n",
    "If you did step 1 you have two Series objects with min and max times for the years 2005 through 2015. You can use Pandas `groupby` to create max and min temperature Series objects across all weather stations for each day of these years, and you can deal with the records for February 29 (the leap year) by dropping them.\n",
    "\n",
    "__hint: when I finished this step, I had two DataFrame objects, each with exactly 4015 observations in them__"
   ]
  },
  {
   "cell_type": "code",
   "execution_count": 116,
   "metadata": {},
   "outputs": [
    {
     "name": "stdout",
     "output_type": "stream",
     "text": [
      "(76100, 4) (75145, 4) (6920, 4) (6837, 4)\n"
     ]
    }
   ],
   "source": [
    "# delete 29th of February records\n",
    "\n",
    "df_2005_2014_MAX = df_2005_2014_MAX.loc[~df_2005_2014_MAX['Date'].str.endswith('-02-29')]\n",
    "df_2005_2014_MIN = df_2005_2014_MIN.loc[~df_2005_2014_MIN['Date'].str.endswith('-02-29')]\n",
    "df_2015_MAX = df_2015_MAX.loc[~df_2015_MAX['Date'].str.endswith('-02-29')]\n",
    "df_2015_MIN = df_2015_MIN.loc[~df_2015_MIN['Date'].str.endswith('-02-29')]\n",
    "\n",
    "print(df_2005_2014_MAX.shape, df_2005_2014_MIN.shape, df_2015_MAX.shape, df_2015_MIN.shape)"
   ]
  },
  {
   "cell_type": "code",
   "execution_count": 117,
   "metadata": {},
   "outputs": [
    {
     "name": "stdout",
     "output_type": "stream",
     "text": [
      "(3650, 1) (3650, 1) (365, 1) (365, 1)\n"
     ]
    }
   ],
   "source": [
    "# count the max and min for each day individually \n",
    "\n",
    "import numpy as np\n",
    "\n",
    "df_2005_2014_MAX = df_2005_2014_MAX.groupby('Date').agg({'Data_Value': np.nanmax})\n",
    "df_2005_2014_MIN = df_2005_2014_MIN.groupby('Date').agg({'Data_Value': np.nanmin})\n",
    "df_2015_MAX = df_2015_MAX.groupby('Date').agg({'Data_Value': np.nanmax})\n",
    "df_2015_MIN = df_2015_MIN.groupby('Date').agg({'Data_Value': np.nanmin})\n",
    "\n",
    "print(df_2005_2014_MAX.shape, df_2005_2014_MIN.shape, df_2015_MAX.shape, df_2015_MIN.shape)"
   ]
  },
  {
   "cell_type": "markdown",
   "metadata": {
    "deletable": false,
    "editable": false,
    "nbgrader": {
     "cell_type": "markdown",
     "checksum": "0edac9c92f1b79eb9b21f302a3259c5e",
     "grade": false,
     "grade_id": "cell-d3a1a2647a47fe31",
     "locked": true,
     "schema_version": 3,
     "solution": false,
     "task": false
    }
   },
   "source": [
    "## Step 3\n",
    "Now that you have grouped the daily max and min temperatures for each day of the years 2005 through 2015, you can separate out the data for 2015. Then you can use the Pandas `groupby` function to find the max and min of the temperature data for each __day of the year__ for the 2005-2014 data.\n",
    "\n",
    "__hint: at the end of this step I had two DataFrames, one of maximum and the other of minimum values, which each had 365 observations in them. I also had another pair of similar DataFrames but only for the year 2015.__"
   ]
  },
  {
   "cell_type": "code",
   "execution_count": 118,
   "metadata": {},
   "outputs": [],
   "source": [
    "# grouped values for each day of the year \n",
    "\n",
    "# df_2005_2014_MAX.groupby(df_2005_2014_MAX['Date'].dt.month)\n",
    "df_2005_2014_MAX.index = pd.to_datetime(df_2005_2014_MAX.index)\n",
    "df_2005_2014_MIN.index = pd.to_datetime(df_2005_2014_MIN.index)\n",
    "df_2015_MAX.index = pd.to_datetime(df_2015_MAX.index)\n",
    "df_2015_MIN.index = pd.to_datetime(df_2015_MIN.index)\n",
    "\n",
    "df_2005_2014_MAX = df_2005_2014_MAX.groupby([df_2005_2014_MAX.index.month, df_2005_2014_MAX.index.day])['Data_Value'].max()\n",
    "df_2005_2014_MIN = df_2005_2014_MIN.groupby([df_2005_2014_MIN.index.month, df_2005_2014_MIN.index.day])['Data_Value'].min()\n",
    "df_2015_MAX = df_2015_MAX.groupby([df_2015_MAX.index.month, df_2015_MAX.index.day])['Data_Value'].max()\n",
    "df_2015_MIN = df_2015_MIN.groupby([df_2015_MIN.index.month, df_2015_MIN.index.day])['Data_Value'].min()\n",
    "# df_2005_2014_MAX.groupby(df_2005_2014_MAX.index.month)['Data_Value'].mean()\n",
    "\n",
    "# df_2005_2014_MAX\n",
    "# df_2005_2014_MAX_index = pd.Series(df_2005_2014_MAX.index)\n",
    "# df_2005_2014_MAX_values = df_2005_2014_MAX.iloc[:, 0]\n",
    "# print(df_2005_2014_MAX_index, df_2005_2014_MAX_values)\n",
    "# print(type(df_2005_2014_MAX_index), type(df_2005_2014_MAX_values))"
   ]
  },
  {
   "cell_type": "code",
   "execution_count": 119,
   "metadata": {},
   "outputs": [],
   "source": [
    "# formatting of the indexes\n",
    "\n",
    "df_2005_2014_MAX.index = [f\"{m:02d}-{d:02d}\" for m, d in df_2005_2014_MAX.index]\n",
    "df_2005_2014_MIN.index = [f\"{m:02d}-{d:02d}\" for m, d in df_2005_2014_MIN.index]\n",
    "df_2015_MAX.index = [f\"{m:02d}-{d:02d}\" for m, d in df_2015_MAX.index]\n",
    "df_2015_MIN.index = [f\"{m:02d}-{d:02d}\" for m, d in df_2015_MIN.index]"
   ]
  },
  {
   "cell_type": "code",
   "execution_count": 120,
   "metadata": {},
   "outputs": [],
   "source": [
    "# df_2005_2014_MAX.index"
   ]
  },
  {
   "cell_type": "code",
   "execution_count": 121,
   "metadata": {},
   "outputs": [],
   "source": [
    "# df_2015_MIN.index"
   ]
  },
  {
   "cell_type": "code",
   "execution_count": 122,
   "metadata": {},
   "outputs": [],
   "source": [
    "# df_2005_2014_MAX"
   ]
  },
  {
   "cell_type": "code",
   "execution_count": 123,
   "metadata": {},
   "outputs": [],
   "source": [
    "# df_2015_MAX"
   ]
  },
  {
   "cell_type": "code",
   "execution_count": 124,
   "metadata": {},
   "outputs": [],
   "source": [
    "# df_2015_MIN"
   ]
  },
  {
   "cell_type": "code",
   "execution_count": 125,
   "metadata": {},
   "outputs": [],
   "source": [
    "# df_2005_2014_MAX_index = pd.Series(df_2005_2014_MAX.index)\n",
    "# df_2005_2014_MAX_values = df_2005_2014_MAX.iloc[:, 0]\n",
    "\n",
    "# df_2005_2014_MIN_index = pd.Series(df_2005_2014_MIN.index)\n",
    "# df_2005_2014_MIN_values = df_2005_2014_MIN.iloc[:, 0]\n",
    "\n",
    "# df_2015_MAX_index = pd.Series(df_2015_MAX.index)\n",
    "# df_2015_MAX_values = df_2015_MAX.iloc[:, 0]\n",
    "\n",
    "# df_2015_MIN_index = pd.Series(df_2015_MIN.index)\n",
    "# df_2015_MIN_values = df_2015_MIN.iloc[:, 0]\n",
    "\n",
    "# print(df_2005_2014_MAX_index, df_2005_2014_MAX_values)\n",
    "# print(type(df_2005_2014_MAX_index), type(df_2005_2014_MAX_values))"
   ]
  },
  {
   "cell_type": "markdown",
   "metadata": {
    "deletable": false,
    "editable": false,
    "nbgrader": {
     "cell_type": "markdown",
     "checksum": "d7de066a05b833f7ded9353ee2215ba8",
     "grade": false,
     "grade_id": "cell-25711f5fdbe49515",
     "locked": true,
     "schema_version": 3,
     "solution": false,
     "task": false
    }
   },
   "source": [
    "## Step 4\n",
    "Now it's time to plot! You need to explore matplotlib in order to plot line graphs of the min and max temperatures for the years 2005 through 2014 and to scatter plot __only__ the daily 2015 temperatures that exceeded those values."
   ]
  },
  {
   "cell_type": "code",
   "execution_count": 126,
   "metadata": {},
   "outputs": [
    {
     "data": {
      "image/png": "[encoded data removed]",
      "text/plain": [
       "<Figure size 864x432 with 1 Axes>"
      ]
     },
     "metadata": {
      "needs_background": "light"
     },
     "output_type": "display_data"
    }
   ],
   "source": [
    "import matplotlib.pyplot as plt\n",
    "from calendar import month_abbr\n",
    "\n",
    "plt.figure(figsize=(12, 6))\n",
    "\n",
    "months_mapping = {'01-01': 'January',\n",
    "                  '02-01': 'February',\n",
    "                  '03-01': 'March',\n",
    "                  '04-01': 'April',\n",
    "                  '05-01': 'May',\n",
    "                  '06-01': 'June',\n",
    "                  '07-01': 'July',\n",
    "                  '08-01': 'August',\n",
    "                  '09-01': 'September',\n",
    "                  '10-01': 'October',\n",
    "                  '11-01': 'November',\n",
    "                  '12-01': 'December'}\n",
    "\n",
    "df_2005_2014_MAX.index = [months_mapping[index] if index in months_mapping else index for index in df_2005_2014_MAX.index]\n",
    "df_2005_2014_MIN.index = [months_mapping[index] if index in months_mapping else index for index in df_2005_2014_MIN.index]\n",
    "df_2015_MAX.index = [months_mapping[index] if index in months_mapping else index for index in df_2015_MAX.index]\n",
    "df_2015_MIN.index = [months_mapping[index] if index in months_mapping else index for index in df_2015_MIN.index]\n",
    "\n",
    "month_positions = [i for i, label in enumerate(df_2005_2014_MAX.index) if label in months_mapping.values()]\n",
    "\n",
    "# Set the xticks at these positions\n",
    "plt.xticks(month_positions, df_2005_2014_MAX.index[month_positions], rotation=45)\n",
    "plt.yticks([])\n",
    "    \n",
    "for spine in plt.gca().spines.values():\n",
    "    spine.set_visible(False)\n",
    "\n",
    "plt.plot(df_2005_2014_MAX.index, df_2005_2014_MAX.values, '-', color='lightcoral', label='2005-2014 Max temperature by day')\n",
    "plt.plot(df_2005_2014_MIN.index, df_2005_2014_MIN.values, '-', color='lightskyblue', label='2005-2014 Min temperature by day')\n",
    "\n",
    "plt.gca().fill_between(range(len(df_2005_2014_MAX.index)), \n",
    "                       df_2005_2014_MAX.values, df_2005_2014_MIN.values, \n",
    "                       facecolor='grey', \n",
    "                       alpha=0.20)\n",
    "\n",
    "df_2015_MAX = df_2015_MAX[df_2015_MAX > df_2005_2014_MAX]\n",
    "df_2015_MIN = df_2015_MIN[df_2015_MIN < df_2005_2014_MIN]\n",
    "         \n",
    "plt.scatter(df_2015_MAX.index, df_2015_MAX.values, color = 'red', label='2015 Max temperature by day')\n",
    "plt.scatter(df_2015_MIN.index, df_2015_MIN.values, color = 'blue', label='2015 Min temperature by day')\n",
    "\n",
    "plt.legend(loc='lower center')\n",
    "plt.title('Record high and low temperatures in Ann Arbor Michigan')\n",
    "plt.savefig('temperature_record_Ann_Arbor.png', dpi=300, bbox_inches='tight')"
   ]
  },
  {
   "cell_type": "code",
   "execution_count": 127,
   "metadata": {},
   "outputs": [],
   "source": [
    "# df_2005_2014_MAX"
   ]
  },
  {
   "cell_type": "code",
   "execution_count": 128,
   "metadata": {},
   "outputs": [],
   "source": [
    "# df_2015_MAX"
   ]
  },
  {
   "cell_type": "code",
   "execution_count": null,
   "metadata": {},
   "outputs": [],
   "source": []
  }
 ],
 "metadata": {
  "coursera": {
   "schema_names": [
    "mooc_adswpy_v1_assignment2"
   ]
  },
  "kernelspec": {
   "display_name": "Python 3 (ipykernel)",
   "language": "python",
   "name": "python3"
  },
  "language_info": {
   "codemirror_mode": {
    "name": "ipython",
    "version": 3
   },
   "file_extension": ".py",
   "mimetype": "text/x-python",
   "name": "python",
   "nbconvert_exporter": "python",
   "pygments_lexer": "ipython3",
   "version": "3.8.10"
  }
 },
 "nbformat": 4,
 "nbformat_minor": 4
}
